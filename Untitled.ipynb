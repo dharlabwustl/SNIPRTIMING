{
 "cells": [
  {
   "cell_type": "code",
   "execution_count": 1,
   "id": "0cdb93f0-9d66-4802-bb2c-367acac4cd40",
   "metadata": {},
   "outputs": [],
   "source": [
    "import pandas as pd\n",
    "df=pd.read_csv('ibio_session_df_modified.csv')"
   ]
  },
  {
   "cell_type": "code",
   "execution_count": 2,
   "id": "836fe57d-a24b-4b5b-83a0-c6b6050eafc0",
   "metadata": {},
   "outputs": [],
   "source": [
    "# df['NIFTI_LOCATION_TIMESTAMP']\n",
    "\n",
    "df['datetime_column'] = pd.to_datetime(df['NIFTI_LOCATION_TIMESTAMP'], errors='coerce')\n",
    "\n",
    "# Extract the date\n",
    "df['date'] = df['datetime_column'].dt.date"
   ]
  },
  {
   "cell_type": "code",
   "execution_count": 3,
   "id": "54834ee9-bda3-4682-b752-3d491d3701ae",
   "metadata": {},
   "outputs": [
    {
     "data": {
      "text/plain": [
       "(1793, 11)"
      ]
     },
     "execution_count": 3,
     "metadata": {},
     "output_type": "execute_result"
    }
   ],
   "source": [
    "most_frequent_date = df['date'].value_counts().idxmax()\n",
    "df=df[df['date']==most_frequent_date]\n",
    "df.shape"
   ]
  },
  {
   "cell_type": "code",
   "execution_count": 4,
   "id": "34e63224-8d6d-491d-84d7-4861ff49c2e2",
   "metadata": {},
   "outputs": [],
   "source": [
    "# Find the lowest (earliest) datetime\n",
    "earliest_datetime = df['datetime_column'].min(skipna=True)\n",
    "\n",
    "# Find the highest (latest) datetime\n",
    "latest_datetime = df['datetime_column'].max(skipna=True)\n"
   ]
  },
  {
   "cell_type": "code",
   "execution_count": 8,
   "id": "ff1bbc8d-377e-4e62-945b-4448dae885de",
   "metadata": {},
   "outputs": [
    {
     "name": "stdout",
     "output_type": "stream",
     "text": [
      "2024-03-18 17:36:51+00:00\n",
      "2024-03-18 18:57:15+00:00\n",
      "1.34\n",
      "4824.0\n"
     ]
    }
   ],
   "source": [
    "print(earliest_datetime)\n",
    "print(latest_datetime)\n",
    "# Calculate the difference\n",
    "time_difference = latest_datetime - earliest_datetime\n",
    "\n",
    "# Convert the difference to hours\n",
    "difference_in_hours = time_difference.total_seconds() / 3600\n",
    "print(difference_in_hours)\n",
    "# Convert the difference to minutes\n",
    "difference_in_minutes = time_difference.total_seconds() #/ 60\n",
    "print(difference_in_minutes)\n",
    "## time per scan:\n"
   ]
  },
  {
   "cell_type": "code",
   "execution_count": 9,
   "id": "dba72ee0-71ec-440f-b7c8-856780b51fb3",
   "metadata": {},
   "outputs": [
    {
     "data": {
      "text/plain": [
       "2.690462911321807"
      ]
     },
     "execution_count": 9,
     "metadata": {},
     "output_type": "execute_result"
    }
   ],
   "source": [
    "difference_in_minutes/df.shape[0]"
   ]
  },
  {
   "cell_type": "code",
   "execution_count": null,
   "id": "58f90211-dd2a-41d1-8601-6260c596a983",
   "metadata": {},
   "outputs": [],
   "source": []
  }
 ],
 "metadata": {
  "kernelspec": {
   "display_name": "Python 3",
   "language": "python",
   "name": "python3"
  },
  "language_info": {
   "codemirror_mode": {
    "name": "ipython",
    "version": 3
   },
   "file_extension": ".py",
   "mimetype": "text/x-python",
   "name": "python",
   "nbconvert_exporter": "python",
   "pygments_lexer": "ipython3",
   "version": "3.7.11"
  }
 },
 "nbformat": 4,
 "nbformat_minor": 5
}
